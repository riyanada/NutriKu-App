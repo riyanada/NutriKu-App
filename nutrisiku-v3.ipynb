{
 "cells": [
  {
   "cell_type": "markdown",
   "id": "22f9cb6a",
   "metadata": {},
   "source": [
    "# Download Dataset melalui Kaggle"
   ]
  },
  {
   "cell_type": "code",
   "execution_count": 18,
   "id": "680704e4",
   "metadata": {
    "editable": true,
    "slideshow": {
     "slide_type": ""
    },
    "tags": []
   },
   "outputs": [],
   "source": [
    "# from google.colab import files\n",
    "# files.upload()"
   ]
  },
  {
   "cell_type": "code",
   "execution_count": 19,
   "id": "84bfdda9",
   "metadata": {
    "tags": []
   },
   "outputs": [],
   "source": [
    "# !ls -lha kaggle.json"
   ]
  },
  {
   "cell_type": "code",
   "execution_count": 20,
   "id": "a79a5815",
   "metadata": {
    "tags": []
   },
   "outputs": [],
   "source": [
    " # !pip install -q kaggle "
   ]
  },
  {
   "cell_type": "code",
   "execution_count": 21,
   "id": "21301b6d",
   "metadata": {
    "tags": []
   },
   "outputs": [],
   "source": [
    "#  !mkdir -p ~/.kaggle\n",
    "\n",
    "#  !cp kaggle.json ~/.kaggle/"
   ]
  },
  {
   "cell_type": "code",
   "execution_count": 22,
   "id": "0fcd9992",
   "metadata": {
    "tags": []
   },
   "outputs": [],
   "source": [
    "# ! chmod 600 /root/.kaggle/kaggle.json"
   ]
  },
  {
   "cell_type": "code",
   "execution_count": 23,
   "id": "b6251afd",
   "metadata": {
    "tags": []
   },
   "outputs": [],
   "source": [
    "# !kaggle datasets download -d robertusbagaskara/indonesian-food-image --force\n",
    "# !kaggle datasets download -d theresalusiana/indonesian-food"
   ]
  },
  {
   "cell_type": "markdown",
   "id": "4a2f4c7c",
   "metadata": {},
   "source": [
    "# Extract file Dataset yang sudah di-download"
   ]
  },
  {
   "cell_type": "code",
   "execution_count": 24,
   "id": "bc0dbb9c",
   "metadata": {
    "tags": []
   },
   "outputs": [],
   "source": [
    "# import zipfile\n",
    "# import os\n",
    "\n",
    "# local_zip = \"indonesian-food.zip\"\n",
    "# extract_folder = \"dataset\"\n",
    "\n",
    "# with zipfile.ZipFile(local_zip, 'r') as zip_ref:\n",
    "#     zip_ref.extractall(extract_folder)\n",
    "\n",
    "# print(f\"Isi ZIP file telah diekstrak ke: {extract_folder}\")\n"
   ]
  },
  {
   "cell_type": "code",
   "execution_count": 25,
   "id": "def8cbff",
   "metadata": {},
   "outputs": [],
   "source": [
    "#import os\n",
    "\n",
    "#src = os.path.join(\"./dataset\")\n",
    "#dst = os.path.join(\"/content/drive/MyDrive/Dataset/\")\n",
    "\n",
    "#shutil.copytree(src,dst)"
   ]
  },
  {
   "cell_type": "code",
   "execution_count": 26,
   "id": "0f82bee9",
   "metadata": {
    "tags": []
   },
   "outputs": [],
   "source": [
    "import os\n",
    "\n",
    "dataset_dir = \"dataset\"\n",
    "train_dir = os.path.join(dataset_dir,'train')\n",
    "validation_dir = os.path.join(dataset_dir,'test')\n",
    "test_dir = os.path.join(dataset_dir,'test')"
   ]
  },
  {
   "cell_type": "code",
   "execution_count": 27,
   "id": "aa819d26",
   "metadata": {
    "tags": []
   },
   "outputs": [
    {
     "name": "stdout",
     "output_type": "stream",
     "text": [
      "['sate', 'kebab', 'air', 'jeruk', 'ikan', 'kentang', 'burger', 'bubur', 'gado', 'cumi', 'gudeg', 'bakwan', 'bakso', 'rendang', 'kopi', 'cakwe', 'kacang', 'apel', 'donat', 'crepes', 'kerupuk', 'ayam', 'es krim', 'durian', 'batagor', 'anggur', 'fu yung hai', 'capcay']\n",
      "['sate', 'kebab', 'air', 'jeruk', 'ikan', 'kentang', 'burger', 'bubur', 'gado', 'cumi', 'gudeg', 'bakwan', 'bakso', 'rendang', 'kopi', 'cakwe', 'kacang', 'apel', 'donat', 'crepes', 'kerupuk', 'ayam', 'es krim', 'durian', 'batagor', 'anggur', 'fu yung hai', 'capcay']\n",
      "['sate', 'kebab', 'air', 'jeruk', 'ikan', 'kentang', 'burger', 'bubur', 'gado', 'cumi', 'gudeg', 'bakwan', 'bakso', 'rendang', 'kopi', 'cakwe', 'kacang', 'apel', 'donat', 'crepes', 'kerupuk', 'ayam', 'es krim', 'durian', 'batagor', 'anggur', 'fu yung hai', 'capcay']\n"
     ]
    }
   ],
   "source": [
    "print(os.listdir(train_dir))\n",
    "print(os.listdir(validation_dir))\n",
    "print(os.listdir(test_dir))"
   ]
  },
  {
   "cell_type": "code",
   "execution_count": 28,
   "id": "3117a16c",
   "metadata": {
    "tags": []
   },
   "outputs": [],
   "source": [
    " # !pip install -U -r \"req.txt\" --user --no-warn-script-location"
   ]
  },
  {
   "cell_type": "markdown",
   "id": "70a38ae5",
   "metadata": {
    "papermill": {
     "duration": 0.007612,
     "end_time": "2023-06-03T14:12:13.064669",
     "exception": false,
     "start_time": "2023-06-03T14:12:13.057057",
     "status": "completed"
    },
    "tags": []
   },
   "source": [
    "path train: '/kaggle/input/indonesian-food/dataset/train'<br>\n",
    "path test: '/kaggle/input/indonesian-food/dataset/test'<br>\n",
    "path valid: '/kaggle/input/indonesian-food/dataset/valid'<br>\n",
    "ada 4 kelas: bakso gado rendang sate"
   ]
  },
  {
   "cell_type": "code",
   "execution_count": 29,
   "id": "6adacd06",
   "metadata": {
    "papermill": {
     "duration": 19.860277,
     "end_time": "2023-06-03T14:12:32.930606",
     "exception": false,
     "start_time": "2023-06-03T14:12:13.070329",
     "status": "completed"
    },
    "scrolled": true,
    "tags": []
   },
   "outputs": [
    {
     "name": "stdout",
     "output_type": "stream",
     "text": [
      "[name: \"/device:CPU:0\"\n",
      "device_type: \"CPU\"\n",
      "memory_limit: 268435456\n",
      "locality {\n",
      "}\n",
      "incarnation: 4300025529681460220\n",
      "xla_global_id: -1\n",
      "]\n"
     ]
    },
    {
     "name": "stderr",
     "output_type": "stream",
     "text": [
      "2024-02-02 05:22:11.811467: I external/local_xla/xla/stream_executor/cuda/cuda_executor.cc:901] successful NUMA node read from SysFS had negative value (-1), but there must be at least one NUMA node, so returning NUMA node zero. See more at https://github.com/torvalds/linux/blob/v6.0/Documentation/ABI/testing/sysfs-bus-pci#L344-L355\n",
      "2024-02-02 05:22:11.813194: W tensorflow/core/common_runtime/gpu/gpu_device.cc:2256] Cannot dlopen some GPU libraries. Please make sure the missing libraries mentioned above are installed properly if you would like to use GPU. Follow the guide at https://www.tensorflow.org/install/gpu for how to download and setup the required libraries for your platform.\n",
      "Skipping registering GPU devices...\n"
     ]
    }
   ],
   "source": [
    "# Common imports\n",
    "import os\n",
    "import numpy as np\n",
    "import tensorflow as tf\n",
    "from tensorflow import keras\n",
    "from typing import Tuple, List\n",
    "\n",
    "# Data Imports\n",
    "import pandas as pd\n",
    "from tqdm import tqdm\n",
    "from glob import glob\n",
    "from tensorflow import data as tfd\n",
    "from tensorflow import image as tfi\n",
    "\n",
    "# Data Visualization\n",
    "import plotly.express as px\n",
    "import matplotlib.pyplot as plt\n",
    "from IPython.display import clear_output as cls\n",
    "\n",
    "# Model Architecture\n",
    "from tensorflow.keras import Sequential\n",
    "from tensorflow.keras.applications import ResNet50V2\n",
    "from tensorflow.keras.applications import ResNet152V2\n",
    "from tensorflow.keras.applications import InceptionV3\n",
    "from tensorflow.keras.applications import Xception\n",
    "from tensorflow.keras.layers import GlobalAveragePooling2D, Dropout, Dense\n",
    "import tensorflow.keras.layers as tflayers\n",
    "\n",
    "# Model Training\n",
    "from tensorflow.keras.callbacks import EarlyStopping\n",
    "from tensorflow.keras.callbacks import ModelCheckpoint\n",
    "from sklearn.metrics import precision_score, recall_score, f1_score, classification_report\n",
    "from tensorflow.keras.callbacks import EarlyStopping\n",
    "import tensorflow.keras.layers as tflayers\n",
    "from tensorflow.keras.models import Sequential\n",
    "from tensorflow.keras.optimizers import Adam, RMSprop\n",
    "from tensorflow.keras.preprocessing.image import ImageDataGenerator\n",
    "from keras_tuner import HyperModel, RandomSearch\n",
    "from keras_tuner.engine.hyperparameters import HyperParameters\n",
    "from tensorflow.keras import regularizers\n",
    "from tensorflow.python.client import device_lib\n",
    "print(device_lib.list_local_devices())\n",
    "\n",
    "\n",
    "# Model Hypertunning\n",
    "# !pip install Keras-Preprocessing\n",
    "# !pip install keras-tuner --upgrade\n",
    "\n",
    "# cls()\n",
    "import keras_tuner as kt\n",
    "from keras_tuner import HyperModel, RandomSearch\n",
    "from keras_tuner.engine.hyperparameters import HyperParameters"
   ]
  },
  {
   "cell_type": "code",
   "execution_count": 30,
   "id": "51644476",
   "metadata": {
    "papermill": {
     "duration": 0.014656,
     "end_time": "2023-06-03T14:12:32.950911",
     "exception": false,
     "start_time": "2023-06-03T14:12:32.936255",
     "status": "completed"
    },
    "tags": []
   },
   "outputs": [],
   "source": [
    "IMAGE_SIZE = 224\n",
    "BATCH_SIZE = 64\n",
    "CLASS_NAMES = ['sate', 'kebab', 'air', 'jeruk', 'ikan', 'kentang', 'burger', 'bubur', 'gado', 'cumi', 'gudeg', 'bakwan', 'bakso', 'rendang', 'kopi', 'cakwe', 'kacang', 'apel', 'donat', 'crepes', 'kerupuk', 'ayam', 'es krim', 'durian', 'batagor', 'anggur', 'fu yung hai', 'capcay']\n",
    "TRAINING_DIR = train_dir\n",
    "VALIDATION_DIR = validation_dir\n",
    "TEST_DIR = test_dir"
   ]
  },
  {
   "cell_type": "code",
   "execution_count": 31,
   "id": "47bc5703",
   "metadata": {
    "papermill": {
     "duration": 2.338428,
     "end_time": "2023-06-03T14:12:35.294646",
     "exception": false,
     "start_time": "2023-06-03T14:12:32.956218",
     "status": "completed"
    },
    "tags": []
   },
   "outputs": [],
   "source": [
    "with tf.device('/gpu:0'):\n",
    "    model = Sequential()\n",
    "\n",
    "    # base_model = Xception(\n",
    "    #     input_shape = (IMAGE_SIZE, IMAGE_SIZE, 3),\n",
    "    #     include_top=False,\n",
    "    #     weights='imagenet'\n",
    "    # )\n",
    "    # model.add(base_model)\n",
    "    # model.add(tf.keras.layers.GlobalAveragePooling2D())\n",
    "\n",
    "    # nontransfer learning\n",
    "    model.add(tflayers.Rescaling(1./255, offset=-1))\n",
    "    model.add(tflayers.Conv2D(16, (3,3), activation='relu'))\n",
    "    model.add(tflayers.MaxPooling2D(2,2))\n",
    "\n",
    "    model.add(tflayers.Conv2D(32, (3,3), activation='relu'))\n",
    "    model.add(tflayers.MaxPooling2D(2,2))\n",
    "\n",
    "    model.add(tflayers.Conv2D(64, (3,3), activation='relu'))\n",
    "    model.add(tflayers.MaxPooling2D(2,2))\n",
    "\n",
    "    model.add(tflayers.Conv2D(128, (3,3), activation='relu'))\n",
    "    model.add(tflayers.MaxPooling2D(2,2))\n",
    "    model.add(tflayers.Conv2D(256, (3,3), activation='relu'))\n",
    "\n",
    "    model.add(tflayers.MaxPooling2D(2,2))\n",
    "    model.add(tflayers.Conv2D(512, (3,3), activation='relu'))\n",
    "    model.add(tflayers.MaxPooling2D(2,2))\n",
    "    model.add(tflayers.Flatten())\n",
    "\n",
    "    # Tune the hyperparameters for the Dense layer\n",
    "    model.add(Dense(512, activation='relu'))\n",
    "    model.add(tflayers.Dropout(0.1))\n",
    "    model.add(Dense(256, activation='relu'))\n",
    "    model.add(Dense(128, activation='relu'))\n",
    "    model.add(Dense(28, activation='softmax'))\n",
    "\n",
    "# Print the model summary\n",
    "# model.summary()"
   ]
  },
  {
   "cell_type": "code",
   "execution_count": 32,
   "id": "0f70e1ed",
   "metadata": {
    "papermill": {
     "duration": 0.034551,
     "end_time": "2023-06-03T14:12:35.334836",
     "exception": false,
     "start_time": "2023-06-03T14:12:35.300285",
     "status": "completed"
    },
    "tags": []
   },
   "outputs": [],
   "source": [
    "initial_LR = 6e-4\n",
    "\n",
    "optimizer = tf.keras.optimizers.Adam(learning_rate=initial_LR)\n",
    "\n",
    "model.compile(\n",
    "    optimizer=optimizer, \n",
    "    loss=tf.keras.losses.CategoricalCrossentropy(), \n",
    "    metrics=['accuracy']\n",
    ")"
   ]
  },
  {
   "cell_type": "code",
   "execution_count": 33,
   "id": "7af2f890",
   "metadata": {
    "papermill": {
     "duration": 8.037224,
     "end_time": "2023-06-03T14:12:43.382530",
     "exception": false,
     "start_time": "2023-06-03T14:12:35.345306",
     "status": "completed"
    },
    "tags": []
   },
   "outputs": [
    {
     "name": "stdout",
     "output_type": "stream",
     "text": [
      "Found 7898 files belonging to 28 classes.\n",
      "Found 1063 files belonging to 28 classes.\n",
      "Found 1063 files belonging to 28 classes.\n"
     ]
    }
   ],
   "source": [
    "IMAGES_SIZE = (IMAGE_SIZE, IMAGE_SIZE)\n",
    "data_augmentation = tf.keras.Sequential([\n",
    "    tf.keras.layers.experimental.preprocessing.RandomFlip(\"horizontal_and_vertical\"),\n",
    "    tf.keras.layers.experimental.preprocessing.RandomRotation(0.3),\n",
    "    tf.keras.layers.experimental.preprocessing.RandomContrast(factor=0.4)\n",
    "])\n",
    "\n",
    "train_generator = tf.keras.utils.image_dataset_from_directory(\n",
    "    TRAINING_DIR,\n",
    "    batch_size=BATCH_SIZE,\n",
    "    label_mode='categorical',\n",
    "    class_names=CLASS_NAMES,\n",
    "    image_size=IMAGES_SIZE\n",
    "    \n",
    ")\n",
    "\n",
    "validation_generator = tf.keras.utils.image_dataset_from_directory(\n",
    "    VALIDATION_DIR,\n",
    "    batch_size=BATCH_SIZE,\n",
    "    label_mode='categorical',\n",
    "    class_names=CLASS_NAMES,\n",
    "    image_size=IMAGES_SIZE\n",
    "    \n",
    ")\n",
    "\n",
    "test_dataset = tf.keras.utils.image_dataset_from_directory(\n",
    "    TEST_DIR,\n",
    "    batch_size=BATCH_SIZE,\n",
    "    label_mode='categorical',\n",
    "    class_names=CLASS_NAMES,\n",
    "    image_size=IMAGES_SIZE,\n",
    "    shuffle=False\n",
    ")"
   ]
  },
  {
   "cell_type": "code",
   "execution_count": 34,
   "id": "2a640ad5",
   "metadata": {
    "papermill": {
     "duration": 2.126496,
     "end_time": "2023-06-03T14:12:45.514971",
     "exception": false,
     "start_time": "2023-06-03T14:12:43.388475",
     "status": "completed"
    },
    "tags": []
   },
   "outputs": [],
   "source": [
    "train_generator = train_generator.map(lambda x, y: (data_augmentation(x, training=True), y))\n",
    "\n",
    "# Configure the dataset for performance\n",
    "train_generator = train_generator.prefetch(buffer_size=tf.data.AUTOTUNE)\n",
    "validation_generator = validation_generator.prefetch(buffer_size=tf.data.AUTOTUNE)"
   ]
  },
  {
   "cell_type": "code",
   "execution_count": 35,
   "id": "173751a7",
   "metadata": {
    "papermill": {
     "duration": 0.01386,
     "end_time": "2023-06-03T14:12:45.534870",
     "exception": false,
     "start_time": "2023-06-03T14:12:45.521010",
     "status": "completed"
    },
    "tags": []
   },
   "outputs": [],
   "source": [
    "# Perform hyperparameter tuning\n",
    "# tuner.search(\n",
    "#     train_generator, \n",
    "#     validation_data=validation_generator, \n",
    "#     epochs=10\n",
    "# #     steps_per_epoch=100\n",
    "# )\n",
    "\n",
    "# Get the best hyperparameters and build the final model\n",
    "# best_hps = tuner.get_best_hyperparameters(num_trials=1)[0]\n",
    "# model = tuner.hypermodel.build(best_hps)"
   ]
  },
  {
   "cell_type": "code",
   "execution_count": 37,
   "id": "81249c65",
   "metadata": {
    "papermill": {
     "duration": 3212.472844,
     "end_time": "2023-06-03T15:06:18.013423",
     "exception": false,
     "start_time": "2023-06-03T14:12:45.540579",
     "status": "completed"
    },
    "tags": []
   },
   "outputs": [
    {
     "name": "stdout",
     "output_type": "stream",
     "text": [
      "Epoch 1/100\n",
      "124/124 [==============================] - 75s 599ms/step - loss: 1.7703 - accuracy: 0.3339 - val_loss: 1.8486 - val_accuracy: 0.3603\n",
      "Epoch 2/100\n",
      "124/124 [==============================] - 74s 594ms/step - loss: 1.5664 - accuracy: 0.4242 - val_loss: 1.6349 - val_accuracy: 0.4506\n",
      "Epoch 3/100\n",
      "124/124 [==============================] - 74s 590ms/step - loss: 1.4868 - accuracy: 0.4762 - val_loss: 1.5994 - val_accuracy: 0.4534\n",
      "Epoch 4/100\n",
      "124/124 [==============================] - 73s 587ms/step - loss: 1.3938 - accuracy: 0.5032 - val_loss: 1.5083 - val_accuracy: 0.4986\n",
      "Epoch 5/100\n",
      "124/124 [==============================] - 74s 591ms/step - loss: 1.3567 - accuracy: 0.5303 - val_loss: 1.5137 - val_accuracy: 0.4788\n",
      "Epoch 6/100\n",
      "124/124 [==============================] - 73s 589ms/step - loss: 1.2778 - accuracy: 0.5603 - val_loss: 1.4689 - val_accuracy: 0.4751\n",
      "Epoch 7/100\n",
      "124/124 [==============================] - 74s 590ms/step - loss: 1.2410 - accuracy: 0.5698 - val_loss: 1.3073 - val_accuracy: 0.5447\n",
      "Epoch 8/100\n",
      "124/124 [==============================] - 74s 591ms/step - loss: 1.1818 - accuracy: 0.5967 - val_loss: 1.3005 - val_accuracy: 0.5691\n",
      "Epoch 9/100\n",
      "124/124 [==============================] - 74s 591ms/step - loss: 1.1280 - accuracy: 0.6155 - val_loss: 1.4975 - val_accuracy: 0.5635\n",
      "Epoch 10/100\n",
      "124/124 [==============================] - 73s 586ms/step - loss: 1.1259 - accuracy: 0.6289 - val_loss: 1.3607 - val_accuracy: 0.5833\n",
      "Epoch 11/100\n",
      "124/124 [==============================] - 73s 587ms/step - loss: 1.0691 - accuracy: 0.6462 - val_loss: 1.1382 - val_accuracy: 0.6303\n",
      "Epoch 12/100\n",
      "124/124 [==============================] - 73s 588ms/step - loss: 1.0489 - accuracy: 0.6462 - val_loss: 1.1313 - val_accuracy: 0.6472\n",
      "Epoch 13/100\n",
      "124/124 [==============================] - 73s 589ms/step - loss: 1.0076 - accuracy: 0.6700 - val_loss: 1.0990 - val_accuracy: 0.6500\n",
      "Epoch 14/100\n",
      "124/124 [==============================] - 73s 587ms/step - loss: 0.9460 - accuracy: 0.6846 - val_loss: 0.9964 - val_accuracy: 0.6773\n",
      "Epoch 15/100\n",
      "124/124 [==============================] - 73s 587ms/step - loss: 0.9022 - accuracy: 0.7130 - val_loss: 1.0552 - val_accuracy: 0.6670\n",
      "Epoch 16/100\n",
      "124/124 [==============================] - 74s 591ms/step - loss: 0.9072 - accuracy: 0.7009 - val_loss: 0.9737 - val_accuracy: 0.6933\n",
      "Epoch 17/100\n",
      "124/124 [==============================] - 74s 593ms/step - loss: 0.8597 - accuracy: 0.7223 - val_loss: 1.0001 - val_accuracy: 0.6849\n",
      "Epoch 18/100\n",
      "124/124 [==============================] - 75s 602ms/step - loss: 0.8648 - accuracy: 0.7245 - val_loss: 0.9854 - val_accuracy: 0.6802\n",
      "Epoch 19/100\n",
      "124/124 [==============================] - 74s 592ms/step - loss: 0.8128 - accuracy: 0.7387 - val_loss: 0.8448 - val_accuracy: 0.7385\n",
      "Epoch 20/100\n",
      "124/124 [==============================] - 74s 590ms/step - loss: 0.7707 - accuracy: 0.7579 - val_loss: 0.8237 - val_accuracy: 0.7310\n",
      "Epoch 21/100\n",
      "124/124 [==============================] - 73s 585ms/step - loss: 0.7372 - accuracy: 0.7621 - val_loss: 0.9093 - val_accuracy: 0.7328\n",
      "Epoch 22/100\n",
      "124/124 [==============================] - 74s 591ms/step - loss: 0.7162 - accuracy: 0.7741 - val_loss: 0.9238 - val_accuracy: 0.7253\n",
      "Epoch 23/100\n",
      "124/124 [==============================] - 74s 590ms/step - loss: 0.6885 - accuracy: 0.7823 - val_loss: 0.7281 - val_accuracy: 0.7592\n",
      "Epoch 24/100\n",
      "124/124 [==============================] - 74s 596ms/step - loss: 0.7045 - accuracy: 0.7713 - val_loss: 0.8419 - val_accuracy: 0.7432\n",
      "Epoch 25/100\n",
      "124/124 [==============================] - 74s 594ms/step - loss: 0.6638 - accuracy: 0.7859 - val_loss: 0.8152 - val_accuracy: 0.7281\n",
      "Epoch 26/100\n",
      "124/124 [==============================] - 74s 593ms/step - loss: 0.6227 - accuracy: 0.8039 - val_loss: 0.7282 - val_accuracy: 0.7563\n",
      "Epoch 27/100\n",
      "124/124 [==============================] - 74s 594ms/step - loss: 0.5830 - accuracy: 0.8108 - val_loss: 0.8276 - val_accuracy: 0.7535\n",
      "Epoch 28/100\n",
      "124/124 [==============================] - 74s 589ms/step - loss: 0.6012 - accuracy: 0.8054 - val_loss: 0.7258 - val_accuracy: 0.7855\n",
      "Epoch 29/100\n",
      "124/124 [==============================] - 74s 589ms/step - loss: 0.5811 - accuracy: 0.8115 - val_loss: 0.7174 - val_accuracy: 0.7733\n",
      "Epoch 30/100\n",
      "124/124 [==============================] - 74s 594ms/step - loss: 0.5535 - accuracy: 0.8250 - val_loss: 0.7256 - val_accuracy: 0.7761\n",
      "Epoch 31/100\n",
      "124/124 [==============================] - 74s 590ms/step - loss: 0.5318 - accuracy: 0.8286 - val_loss: 0.6883 - val_accuracy: 0.7695\n",
      "Epoch 32/100\n",
      "124/124 [==============================] - 73s 583ms/step - loss: 0.5182 - accuracy: 0.8293 - val_loss: 0.7299 - val_accuracy: 0.7601\n",
      "Epoch 33/100\n",
      "124/124 [==============================] - 73s 587ms/step - loss: 0.5003 - accuracy: 0.8372 - val_loss: 0.5756 - val_accuracy: 0.8062\n",
      "Epoch 34/100\n",
      "124/124 [==============================] - 73s 584ms/step - loss: 0.4867 - accuracy: 0.8397 - val_loss: 0.7363 - val_accuracy: 0.7733\n",
      "Epoch 35/100\n",
      "124/124 [==============================] - 73s 583ms/step - loss: 0.4608 - accuracy: 0.8458 - val_loss: 0.5782 - val_accuracy: 0.8184\n",
      "Epoch 36/100\n",
      "124/124 [==============================] - 73s 581ms/step - loss: 0.4831 - accuracy: 0.8440 - val_loss: 0.5799 - val_accuracy: 0.8203\n",
      "Epoch 37/100\n",
      "124/124 [==============================] - 73s 581ms/step - loss: 0.4577 - accuracy: 0.8534 - val_loss: 0.8694 - val_accuracy: 0.7422\n",
      "Epoch 38/100\n",
      "124/124 [==============================] - 72s 580ms/step - loss: 0.4572 - accuracy: 0.8501 - val_loss: 0.5669 - val_accuracy: 0.8241\n",
      "Epoch 39/100\n",
      "124/124 [==============================] - 72s 579ms/step - loss: 0.4490 - accuracy: 0.8502 - val_loss: 0.5388 - val_accuracy: 0.8213\n",
      "Epoch 40/100\n",
      "124/124 [==============================] - 73s 583ms/step - loss: 0.4419 - accuracy: 0.8536 - val_loss: 0.5342 - val_accuracy: 0.8250\n",
      "Epoch 41/100\n",
      "124/124 [==============================] - 73s 581ms/step - loss: 0.4270 - accuracy: 0.8628 - val_loss: 0.6548 - val_accuracy: 0.7968\n",
      "Epoch 42/100\n",
      "124/124 [==============================] - 73s 582ms/step - loss: 0.3874 - accuracy: 0.8711 - val_loss: 0.5509 - val_accuracy: 0.8100\n",
      "Epoch 43/100\n",
      "124/124 [==============================] - 72s 578ms/step - loss: 0.3780 - accuracy: 0.8740 - val_loss: 0.5742 - val_accuracy: 0.8260\n",
      "Epoch 44/100\n",
      "124/124 [==============================] - 72s 579ms/step - loss: 0.4216 - accuracy: 0.8615 - val_loss: 0.5526 - val_accuracy: 0.8297\n",
      "Epoch 45/100\n",
      "124/124 [==============================] - 72s 581ms/step - loss: 0.3722 - accuracy: 0.8729 - val_loss: 0.6320 - val_accuracy: 0.8081\n"
     ]
    }
   ],
   "source": [
    "# Define early stopping callback\n",
    "early_stopping = EarlyStopping(\n",
    "    monitor='val_loss', \n",
    "    patience=5, \n",
    "    restore_best_weights=True\n",
    ")\n",
    "\n",
    "# Train the model\n",
    "history = model.fit(\n",
    "    train_generator, \n",
    "    callbacks=[early_stopping], \n",
    "    epochs=100,\n",
    "    verbose=1, \n",
    "    validation_data = validation_generator,\n",
    "#     steps_per_epoch = 1\n",
    ")\n",
    "\n",
    "# val_loss_per_epoch = history.history['val_accuracy']\n",
    "# best_epoch = val_loss_per_epoch.index(min(val_loss_per_epoch)) + 1\n",
    "# print('Best epoch: %d' % (best_epoch,))"
   ]
  },
  {
   "cell_type": "code",
   "execution_count": 38,
   "id": "9d749a6a",
   "metadata": {
    "papermill": {
     "duration": 14.794425,
     "end_time": "2023-06-03T15:06:33.379795",
     "exception": false,
     "start_time": "2023-06-03T15:06:18.585370",
     "status": "completed"
    },
    "tags": []
   },
   "outputs": [
    {
     "data": {
      "image/png": "[encoded data removed]",
      "text/plain": [
       "<Figure size 1200x400 with 2 Axes>"
      ]
     },
     "metadata": {},
     "output_type": "display_data"
    }
   ],
   "source": [
    "import matplotlib.pyplot as plt\n",
    "\n",
    "# Plot the results\n",
    "acc = history.history['accuracy']\n",
    "val_acc = history.history['val_accuracy']\n",
    "loss = history.history['loss']\n",
    "val_loss = history.history['val_loss']\n",
    "\n",
    "epochs = range(len(acc))\n",
    "\n",
    "figure, axis = plt.subplots(1, 2, figsize=(12, 4))\n",
    "\n",
    "axis[0].plot(epochs, acc, 'r', label='Training accuracy')\n",
    "axis[0].plot(epochs, val_acc, 'b', label='Validation accuracy')\n",
    "axis[0].set_title(\"Training and validation accuracy\")\n",
    "axis[0].legend(loc=0)\n",
    "\n",
    "axis[1].plot(epochs, loss, 'r', label='Training loss')\n",
    "axis[1].plot(epochs, val_loss, 'b', label='Validation loss')\n",
    "axis[1].set_title(\"Training and validation loss\")\n",
    "axis[1].legend(loc=0)\n",
    "\n",
    "\n",
    "plt.show()"
   ]
  },
  {
   "cell_type": "code",
   "execution_count": 39,
   "id": "7d3c84ef",
   "metadata": {
    "papermill": {
     "duration": 0.540465,
     "end_time": "2023-06-03T15:06:34.359258",
     "exception": false,
     "start_time": "2023-06-03T15:06:33.818793",
     "status": "completed"
    },
    "tags": []
   },
   "outputs": [
    {
     "name": "stderr",
     "output_type": "stream",
     "text": [
      "/home/jupyter/.local/lib/python3.10/site-packages/keras/src/engine/training.py:3103: UserWarning: You are saving your model as an HDF5 file via `model.save()`. This file format is considered legacy. We recommend using instead the native Keras format, e.g. `model.save('my_model.keras')`.\n",
      "  saving_api.save_model(\n"
     ]
    }
   ],
   "source": [
    "from datetime import datetime\n",
    "# current date and time\n",
    "now = datetime.now()\n",
    "\n",
    "time_stamp = datetime.timestamp(now)\n",
    "name = f'model-Bloss-{time_stamp}'\n",
    "model.save(f'{name}.h5')"
   ]
  },
  {
   "cell_type": "code",
   "execution_count": null,
   "id": "23b31f52",
   "metadata": {
    "papermill": {
     "duration": 0.502192,
     "end_time": "2023-06-03T15:06:35.296071",
     "exception": false,
     "start_time": "2023-06-03T15:06:34.793879",
     "status": "completed"
    },
    "tags": []
   },
   "outputs": [],
   "source": [
    "# save_locally = tf.saved_model.SaveOptions(experimental_io_device='/job:localhost')\n",
    "# checkpoints_cb = tf.keras.callbacks.ModelCheckpoint('./checkpoints', options=save_locally)"
   ]
  },
  {
   "cell_type": "code",
   "execution_count": null,
   "id": "1312c128",
   "metadata": {
    "papermill": {
     "duration": 0.44988,
     "end_time": "2023-06-03T15:06:36.177870",
     "exception": false,
     "start_time": "2023-06-03T15:06:35.727990",
     "status": "completed"
    },
    "tags": []
   },
   "outputs": [],
   "source": [
    "# # hypermodel = tuner.hypermodel.build(best_hps)\n",
    "\n",
    "# # Retrain the model\n",
    "# historyFinal = model.fit(\n",
    "#     train_generator, \n",
    "#     epochs=best_epoch, \n",
    "#     verbose=1,\n",
    "#     validation_data = validation_generator,\n",
    "#     callbacks=[checkpoints_cb],\n",
    "# #     steps_per_epoch = 10\n",
    "# )"
   ]
  },
  {
   "cell_type": "code",
   "execution_count": null,
   "id": "ef94e550",
   "metadata": {
    "papermill": {
     "duration": 0.446917,
     "end_time": "2023-06-03T15:06:37.068736",
     "exception": false,
     "start_time": "2023-06-03T15:06:36.621819",
     "status": "completed"
    },
    "tags": []
   },
   "outputs": [],
   "source": [
    "# eval_result = hypermodel.evaluate(img_test, label_test)\n",
    "# print(\"[test loss, test accuracy]:\", eval_result)"
   ]
  },
  {
   "cell_type": "code",
   "execution_count": null,
   "id": "e202a91d",
   "metadata": {
    "papermill": {
     "duration": 0.496098,
     "end_time": "2023-06-03T15:06:38.008861",
     "exception": false,
     "start_time": "2023-06-03T15:06:37.512763",
     "status": "completed"
    },
    "tags": []
   },
   "outputs": [],
   "source": [
    "# import matplotlib.pyplot as plt\n",
    "\n",
    "# # Plot the results\n",
    "# acc = historyFinal.history['accuracy']\n",
    "# val_acc = historyFinal.history['val_accuracy']\n",
    "# loss = historyFinal.history['loss']\n",
    "# val_loss = historyFinal.history['val_loss']\n",
    "\n",
    "# epochs = range(len(acc))\n",
    "\n",
    "# figure, axis = plt.subplots(1, 2, figsize=(12, 4))\n",
    "\n",
    "# axis[0].plot(epochs, acc, 'r', label='Training accuracy')\n",
    "# axis[0].plot(epochs, val_acc, 'b', label='Validation accuracy')\n",
    "# axis[0].set_title(\"Training and validation accuracy\")\n",
    "# axis[0].legend(loc=0)\n",
    "\n",
    "# axis[1].plot(epochs, loss, 'r', label='Training loss')\n",
    "# axis[1].plot(epochs, val_loss, 'b', label='Validation loss')\n",
    "# axis[1].set_title(\"Training and validation loss\")\n",
    "# axis[1].legend(loc=0)\n",
    "\n",
    "\n",
    "# plt.show()"
   ]
  },
  {
   "cell_type": "code",
   "execution_count": null,
   "id": "1724fdd6",
   "metadata": {
    "papermill": {
     "duration": 0.447092,
     "end_time": "2023-06-03T15:06:38.891458",
     "exception": false,
     "start_time": "2023-06-03T15:06:38.444366",
     "status": "completed"
    },
    "tags": []
   },
   "outputs": [],
   "source": [
    "# # Define the path to the directory where the checkpoints were saved\n",
    "# checkpoint_dir = './checkpoints'\n",
    "\n",
    "# # Load the best checkpoint using tf.keras.models.load_model()\n",
    "# best_model = tf.keras.models.load_model(checkpoint_dir)"
   ]
  },
  {
   "cell_type": "code",
   "execution_count": null,
   "id": "3e21bcd8",
   "metadata": {
    "papermill": {
     "duration": 0.49967,
     "end_time": "2023-06-03T15:06:39.824845",
     "exception": false,
     "start_time": "2023-06-03T15:06:39.325175",
     "status": "completed"
    },
    "tags": []
   },
   "outputs": [],
   "source": [
    "# from datetime import datetime\n",
    "# # current date and time\n",
    "# now = datetime.now()\n",
    "\n",
    "# time_stamp = datetime.timestamp(now)\n",
    "# name = f'model-train-{time_stamp}'\n",
    "# best_model.save(f'{name}.h5')"
   ]
  },
  {
   "cell_type": "code",
   "execution_count": null,
   "id": "c1a71eae",
   "metadata": {
    "papermill": {
     "duration": 0.522427,
     "end_time": "2023-06-03T15:06:40.784150",
     "exception": false,
     "start_time": "2023-06-03T15:06:40.261723",
     "status": "completed"
    },
    "tags": []
   },
   "outputs": [],
   "source": [
    "# import tensorflow as tf\n",
    "# best_model = tf.keras.models.load_model(\n",
    "#     '/kaggle/input/models/model-train-1685722885.101213.h5'\n",
    "# )\n",
    "# model = tf.keras.models.load_model(\n",
    "#     '/kaggle/input/models/model-Bloss-1685721375.749981.h5'\n",
    "# )"
   ]
  },
  {
   "cell_type": "code",
   "execution_count": 40,
   "id": "f0b4c1ca",
   "metadata": {
    "papermill": {
     "duration": 2.139266,
     "end_time": "2023-06-03T15:06:43.358723",
     "exception": false,
     "start_time": "2023-06-03T15:06:41.219457",
     "status": "completed"
    },
    "tags": []
   },
   "outputs": [
    {
     "name": "stdout",
     "output_type": "stream",
     "text": [
      "\n",
      "model Bloss\n",
      " Loss    : 0.5342\n",
      " Accuracy: 82.5%\n",
      "\n"
     ]
    }
   ],
   "source": [
    "test_loss_loss, test_acc_loss = model.evaluate(test_dataset, verbose=0)\n",
    "\n",
    "# test_loss, test_acc = best_model.evaluate(test_dataset, verbose=0)\n",
    "# print(\n",
    "#     \"model train\\n\",\n",
    "#     \"Loss    : {:.4}\\n\".format(test_loss), \n",
    "#     \"Accuracy: {:.4}%\\n\".format(test_acc*100)\n",
    "# )\n",
    "print(\n",
    "    \"\\nmodel Bloss\\n\",\n",
    "    \"Loss    : {:.4}\\n\".format(test_loss_loss), \n",
    "    \"Accuracy: {:.4}%\\n\".format(test_acc_loss*100)\n",
    ")"
   ]
  },
  {
   "cell_type": "code",
   "execution_count": 41,
   "id": "fb861b75",
   "metadata": {
    "papermill": {
     "duration": 0.586898,
     "end_time": "2023-06-03T15:06:44.381527",
     "exception": false,
     "start_time": "2023-06-03T15:06:43.794629",
     "status": "completed"
    },
    "tags": []
   },
   "outputs": [],
   "source": [
    "def auto_testing(TEST_DIR, best_model):\n",
    "    for dirname, _, filenames in os.walk(TEST_DIR):\n",
    "        if dirname is not TEST_DIR:\n",
    "            last_dir = os.path.basename(os.path.normpath(dirname))\n",
    "            correct = 0\n",
    "            report = None\n",
    "            for idx, filename in enumerate(filenames):\n",
    "                path = filename\n",
    "\n",
    "                img = load_img(os.path.join(\n",
    "                    os.path.join(TEST_DIR, dirname), filename), target_size=(IMAGE_SIZE, IMAGE_SIZE))\n",
    "                x = img_to_array(img)\n",
    "                x = np.expand_dims(x, axis=0)\n",
    "\n",
    "                images = np.vstack([x])\n",
    "                classes = best_model.predict(images, batch_size=128, verbose=0)\n",
    "                score = tf.nn.softmax(classes[0])\n",
    "\n",
    "                predicted_class = np.argmax(score)\n",
    "                predicted_class_name = class_names[np.argmax(score)]\n",
    "\n",
    "                if(last_dir==predicted_class_name): correct += 1\n",
    "    #             print(\"Image: \", filename)\n",
    "    #             print(\n",
    "    #                 \"This image most likely belongs to {} with a {:.2f} percent confidence.\\n\"\n",
    "    #                 .format(predicted_class_name, 100 * np.max(score))\n",
    "    #             )\n",
    "\n",
    "            print(f'untuk folder {last_dir}')\n",
    "            print(\"Jumlah data\",len(os.listdir(os.path.join(TEST_DIR, dirname))))\n",
    "            print(\"Jumlah data benar\", correct)\n",
    "            print(\n",
    "                \"Akurasi {:.2f}\\n\"\n",
    "                .format(100*(correct/len(os.listdir(os.path.join(TEST_DIR, dirname)))))\n",
    "            )"
   ]
  },
  {
   "cell_type": "code",
   "execution_count": 51,
   "id": "8abba65c",
   "metadata": {
    "papermill": {
     "duration": 19.29966,
     "end_time": "2023-06-03T15:07:04.299823",
     "exception": false,
     "start_time": "2023-06-03T15:06:45.000163",
     "status": "completed"
    },
    "tags": []
   },
   "outputs": [
    {
     "name": "stdout",
     "output_type": "stream",
     "text": [
      "['sate', 'kebab', 'air', 'jeruk', 'ikan', 'kentang', 'burger', 'bubur', 'gado', 'cumi', 'gudeg', 'bakwan', 'bakso', 'rendang', 'kopi', 'cakwe', 'kacang', 'apel', 'donat', 'crepes', 'kerupuk', 'ayam', 'es krim', 'durian', 'batagor', 'anggur', 'fu yung hai', 'capcay']\n",
      "===============================\n"
     ]
    }
   ],
   "source": [
    "import numpy as np\n",
    "import os\n",
    "from tensorflow.keras.utils import load_img, img_to_array\n",
    "import tensorflow as tf\n",
    "import numpy as np\n",
    "from sklearn.metrics import classification_report\n",
    "from tensorflow.keras.utils import to_categorical\n",
    "\n",
    "true_labels = np.concatenate([y for _, y in test_dataset], axis=0)\n",
    "\n",
    "true_labels = to_categorical(true_labels, num_classes=4)\n",
    "\n",
    "class_names = CLASS_NAMES\n",
    "print(class_names)\n",
    " \n",
    "# predicting images\n",
    "TEST_DIR = '/dataset/test'\n",
    "# auto_testing(TEST_DIR, best_model)\n",
    "print('===============================')\n",
    "auto_testing(TEST_DIR, model)\n",
    "\n"
   ]
  },
  {
   "cell_type": "code",
   "execution_count": 52,
   "id": "cfe6621c",
   "metadata": {
    "papermill": {
     "duration": 0.443172,
     "end_time": "2023-06-03T15:07:05.176239",
     "exception": false,
     "start_time": "2023-06-03T15:07:04.733067",
     "status": "completed"
    },
    "tags": []
   },
   "outputs": [],
   "source": [
    "# Function to load and preprocess images\n",
    "def load_images(directory):\n",
    "    images = []\n",
    "    labels = []\n",
    "    for class_name in CLASS_NAMES:\n",
    "        class_dir = os.path.join(directory, class_name)\n",
    "        for filename in os.listdir(class_dir):\n",
    "            img_path = os.path.join(class_dir, filename)\n",
    "            img = load_img(img_path, target_size=(IMAGE_SIZE, IMAGE_SIZE))\n",
    "            img = img_to_array(img) / 255.0\n",
    "            images.append(img)\n",
    "            labels.append(CLASS_NAMES.index(class_name))\n",
    "    return np.array(images), np.array(labels)"
   ]
  },
  {
   "cell_type": "code",
   "execution_count": 53,
   "id": "8e9e8f7f",
   "metadata": {
    "papermill": {
     "duration": 1.804198,
     "end_time": "2023-06-03T15:07:07.420715",
     "exception": false,
     "start_time": "2023-06-03T15:07:05.616517",
     "status": "completed"
    },
    "tags": []
   },
   "outputs": [
    {
     "name": "stdout",
     "output_type": "stream",
     "text": [
      "Baseline Performance\n",
      "Precision  : 0.00026878\n",
      "Recall     : 0.035714\n",
      "F1 Score   : 0.00053355\n",
      "\n",
      "               precision    recall  f1-score   support\n",
      "\n",
      "           0       0.00      0.00      0.00       214\n",
      "           1       0.00      0.00      0.00         5\n",
      "           2       0.01      1.00      0.01         8\n",
      "           3       0.00      0.00      0.00         6\n",
      "           4       0.00      0.00      0.00         6\n",
      "           5       0.00      0.00      0.00         6\n",
      "           6       0.00      0.00      0.00         6\n",
      "           7       0.00      0.00      0.00         5\n",
      "           8       0.00      0.00      0.00       216\n",
      "           9       0.00      0.00      0.00         8\n",
      "          10       0.00      0.00      0.00        52\n",
      "          11       0.00      0.00      0.00         6\n",
      "          12       0.00      0.00      0.00       219\n",
      "          13       0.00      0.00      0.00       222\n",
      "          14       0.00      0.00      0.00         8\n",
      "          15       0.00      0.00      0.00         5\n",
      "          16       0.00      0.00      0.00         5\n",
      "          17       0.00      0.00      0.00         7\n",
      "          18       0.00      0.00      0.00         5\n",
      "          19       0.00      0.00      0.00         6\n",
      "          20       0.00      0.00      0.00         3\n",
      "          21       0.00      0.00      0.00        10\n",
      "          22       0.00      0.00      0.00         5\n",
      "          23       0.00      0.00      0.00         6\n",
      "          24       0.00      0.00      0.00         8\n",
      "          25       0.00      0.00      0.00         5\n",
      "          26       0.00      0.00      0.00         5\n",
      "          27       0.00      0.00      0.00         6\n",
      "\n",
      "    accuracy                           0.01      1063\n",
      "   macro avg       0.00      0.04      0.00      1063\n",
      "weighted avg       0.00      0.01      0.00      1063\n",
      "\n"
     ]
    }
   ],
   "source": [
    "TEST_DIR = 'dataset/test' \n",
    "# Make predictions\n",
    "test_dataset, test_label = load_images(TEST_DIR)\n",
    "\n",
    "baseline_pred = np.argmax(model.predict(test_dataset, verbose=0), axis=-1)\n",
    "# best_pred = np.argmax(mobile_net_model.predict(X_test, verbose=0), axis=-1)\n",
    "\n",
    "# Evaluate prediction : Precision\n",
    "baseline_pre = precision_score(test_label, baseline_pred, average='macro', zero_division=0)\n",
    "# best_pre = precision_score(y_test, best_pred, average='macro')\n",
    "\n",
    "# Evaluate prediction : Recall\n",
    "baseline_recall = recall_score(test_label, baseline_pred, average='macro', zero_division=0)\n",
    "# best_recall = recall_score(y_test, best_pred, average='macro')\n",
    "\n",
    "# Evaluate prediction : F1 Score\n",
    "baseline_f1 = f1_score(test_label, baseline_pred, average='macro', zero_division=0)\n",
    "# best_f1 = f1_score(y_test, best_pred, average='macro')\n",
    "\n",
    "print(\"{:20}\".format(\"Baseline Performance\"))\n",
    "print(\"{:10} : {:.5}\".format(\"Precision\", baseline_pre))\n",
    "print(\"{:10} : {:.5}\".format(\"Recall\", baseline_recall))\n",
    "print(\"{:10} : {:.5}\".format(\"F1 Score\", baseline_f1))\n",
    "\n",
    "print('\\n',classification_report(test_label, baseline_pred, zero_division=0))"
   ]
  },
  {
   "cell_type": "code",
   "execution_count": null,
   "id": "cf94189f-2fed-4c87-8d9a-4e8dfb4bc956",
   "metadata": {},
   "outputs": [],
   "source": []
  }
 ],
 "metadata": {
  "kernelspec": {
   "display_name": "TensorFlow 2.11 (Local)",
   "language": "python",
   "name": "tf2-2-11"
  },
  "language_info": {
   "codemirror_mode": {
    "name": "ipython",
    "version": 3
   },
   "file_extension": ".py",
   "mimetype": "text/x-python",
   "name": "python",
   "nbconvert_exporter": "python",
   "pygments_lexer": "ipython3",
   "version": "3.10.13"
  },
  "papermill": {
   "default_parameters": {},
   "duration": 3309.025635,
   "end_time": "2023-06-03T15:07:11.399531",
   "environment_variables": {},
   "exception": null,
   "input_path": "__notebook__.ipynb",
   "output_path": "__notebook__.ipynb",
   "parameters": {},
   "start_time": "2023-06-03T14:12:02.373896",
   "version": "2.4.0"
  }
 },
 "nbformat": 4,
 "nbformat_minor": 5
}
